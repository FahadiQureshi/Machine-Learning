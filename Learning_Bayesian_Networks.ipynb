{
  "nbformat": 4,
  "nbformat_minor": 0,
  "metadata": {
    "colab": {
      "name": "Learning Bayesian Networks.ipynb",
      "provenance": [],
      "toc_visible": true,
      "include_colab_link": true
    },
    "kernelspec": {
      "name": "python3",
      "display_name": "Python 3"
    }
  },
  "cells": [
    {
      "cell_type": "markdown",
      "metadata": {
        "id": "view-in-github",
        "colab_type": "text"
      },
      "source": [
        "<a href=\"https://colab.research.google.com/github/FahadiQureshi/Machine-Learning/blob/main/Learning_Bayesian_Networks.ipynb\" target=\"_parent\"><img src=\"https://colab.research.google.com/assets/colab-badge.svg\" alt=\"Open In Colab\"/></a>"
      ]
    },
    {
      "cell_type": "markdown",
      "metadata": {
        "id": "GzNfOBdPiINs"
      },
      "source": [
        "# **Lab 9 Learning Bayesian Networks**"
      ]
    },
    {
      "cell_type": "markdown",
      "metadata": {
        "id": "haooIWMtiSQP"
      },
      "source": [
        "Previous notebooks showed how Bayesian networks economically encode a probability distribution over a set of variables, and how they can be used e.g. to predict variable states, or to generate new samples from the joint distribution. This section will be about obtaining a Bayesian network, given a set of sample data. Learning a Bayesian network can be split into two problems:\n",
        "\n",
        "  **Parameter learning**: Given a set of data samples and a DAG that captures the dependencies between the variables, estimate the (conditional) probability distributions of the individual variables.\n",
        "\n",
        "  **Structure learning**: Given a set of data samples, estimate a DAG that captures the dependencies between the variables.\n",
        "\n",
        "  This notebook aims to illustrate how parameter learning and structure learning can be done with pgmpy. Currently, the library supports:\n",
        "  \n",
        "\n",
        "Parameter learning for discrete nodes:\n",
        "\n",
        "*   Maximum Likelihood Estimation\n",
        "*   Bayesian Estimation\n",
        "    \n",
        "Structure learning for discrete, fully observed networks:\n",
        "    \n",
        "*    Score-based structure estimation (BIC/BDeu/K2 score; exhaustive search, hill climb/tabu search)\n",
        "*   Constraint-based structure estimation (PC)\n",
        "*   Hybrid structure estimation (MMHC)\n",
        "\n",
        "\n",
        "# **Parameter Learning **\n",
        "\n",
        "  Suppose we have the following data:"
      ]
    },
    {
      "cell_type": "code",
      "metadata": {
        "id": "rmqcjyXdiH32",
        "colab": {
          "base_uri": "https://localhost:8080/",
          "height": 0
        },
        "outputId": "dc517623-a002-4a7d-a617-34eb3dc9031b"
      },
      "source": [
        "\n",
        "import pandas as pd\n",
        "data = pd.DataFrame(data={'fruit': [\"banana\", \"apple\", \"banana\", \"apple\", \"banana\",\"apple\", \"banana\",\n",
        "                                    \"apple\", \"apple\", \"apple\", \"banana\", \"banana\", \"apple\", \"banana\",],\n",
        "                          'tasty': [\"yes\", \"no\", \"yes\", \"yes\", \"yes\", \"yes\", \"yes\",\n",
        "                                    \"yes\", \"yes\", \"yes\", \"yes\", \"no\", \"no\", \"no\"],\n",
        "                          'size': [\"large\", \"large\", \"large\", \"small\", \"large\", \"large\", \"large\",\n",
        "                                    \"small\", \"large\", \"large\", \"large\", \"large\", \"small\", \"small\"]})\n",
        "print(data)"
      ],
      "execution_count": 2,
      "outputs": [
        {
          "output_type": "stream",
          "name": "stdout",
          "text": [
            "     fruit tasty   size\n",
            "0   banana   yes  large\n",
            "1    apple    no  large\n",
            "2   banana   yes  large\n",
            "3    apple   yes  small\n",
            "4   banana   yes  large\n",
            "5    apple   yes  large\n",
            "6   banana   yes  large\n",
            "7    apple   yes  small\n",
            "8    apple   yes  large\n",
            "9    apple   yes  large\n",
            "10  banana   yes  large\n",
            "11  banana    no  large\n",
            "12   apple    no  small\n",
            "13  banana    no  small\n"
          ]
        }
      ]
    },
    {
      "cell_type": "markdown",
      "metadata": {
        "id": "PyZuFK0ljuxU"
      },
      "source": [
        "We know that the variables relate as follows:"
      ]
    },
    {
      "cell_type": "code",
      "metadata": {
        "id": "-qb8XKJIh1fO",
        "colab": {
          "base_uri": "https://localhost:8080/",
          "height": 0
        },
        "outputId": "a3420696-0c78-4e58-f72a-89902aa4998c"
      },
      "source": [
        "\n",
        "from pgmpy.models import BayesianModel\n",
        "\n",
        "model = BayesianModel([('fruit', 'tasty'), ('size', 'tasty')])  # fruit -> tasty <- size"
      ],
      "execution_count": 5,
      "outputs": [
        {
          "output_type": "stream",
          "name": "stderr",
          "text": [
            "WARNING:pgmpy:BayesianModel has been renamed to BayesianNetwork. Please use BayesianNetwork class, BayesianModel will be removed in future.\n"
          ]
        }
      ]
    },
    {
      "cell_type": "markdown",
      "metadata": {
        "id": "gJuxmhzGj0Ht"
      },
      "source": [
        "\n",
        "Parameter learning is the task to estimate the values of the conditional probability distributions (CPDs), for the variables fruit, size, and tasty."
      ]
    },
    {
      "cell_type": "markdown",
      "metadata": {
        "id": "2WglsabviF7O"
      },
      "source": [
        "State counts\n",
        "To make sense of the given data, we can start by counting how often each state of the variable occurs. If the variable is dependent on parents, the counts are done conditionally on the parents states, i.e. for seperately for each parent configuration:"
      ]
    },
    {
      "cell_type": "code",
      "metadata": {
        "id": "7Jbq8VxNj6Mq",
        "colab": {
          "base_uri": "https://localhost:8080/",
          "height": 0
        },
        "outputId": "3d730ca9-704e-47f0-a462-54dc4800a50c"
      },
      "source": [
        "from pgmpy.estimators import ParameterEstimator\n",
        "pe = ParameterEstimator(model, data)\n",
        "print(\"\\n\", pe.state_counts('fruit'))  # unconditional\n",
        "print(\"\\n\", pe.state_counts('tasty'))  # conditional on fruit and size"
      ],
      "execution_count": 6,
      "outputs": [
        {
          "output_type": "stream",
          "name": "stdout",
          "text": [
            "\n",
            "         count\n",
            "fruit        \n",
            "apple       7\n",
            "banana      7\n",
            "\n",
            " fruit apple       banana      \n",
            "size  large small  large small\n",
            "tasty                         \n",
            "no      1.0   1.0    1.0   1.0\n",
            "yes     3.0   2.0    5.0   0.0\n"
          ]
        }
      ]
    },
    {
      "cell_type": "markdown",
      "metadata": {
        "id": "v93TdPWdj4AY"
      },
      "source": [
        "We can see, for example, that as many apples as bananas were observed and that 5 large bananas were tasty, while only 1 was not."
      ]
    },
    {
      "cell_type": "markdown",
      "metadata": {
        "id": "VaeRKm7qj-SS"
      },
      "source": [
        "**Maximum Likelihood Estimation**\n",
        "\n",
        "\n",
        "A natural estimate for the CPDs is to simply use the relative frequencies, with which the variable states have occured. We observed 7 apples among a total of 14 fruits, so we might guess that about 50% of fruits are apples.\n",
        "\n",
        "This approach is Maximum Likelihood Estimation (MLE). According to MLE, we should fill the CPDs in such a way, that $P(\\text{data}|\\text{model})$ is maximal. This is achieved when using the relative frequencies. See [1], section 17.1 for an introduction to ML parameter estimation. pgmpy supports MLE as follows:"
      ]
    },
    {
      "cell_type": "code",
      "metadata": {
        "id": "njSaSDoFkcvK",
        "colab": {
          "base_uri": "https://localhost:8080/",
          "height": 252
        },
        "outputId": "fbcf3c73-1f8e-495e-9fdf-c27736f1a8f1"
      },
      "source": [
        "from pgmpy.estimators import MaximumLikelihoodEstimator\n",
        "mle = MaximumLikelihoodEstimator(model, data)\n",
        "print(mle.estimate_cpd('fruit'))  # unconditional\n",
        "print(mle.estimate_cpd('tasty'))  # conditional"
      ],
      "execution_count": null,
      "outputs": [
        {
          "output_type": "stream",
          "text": [
            "+---------------+-----+\n",
            "| fruit(apple)  | 0.5 |\n",
            "+---------------+-----+\n",
            "| fruit(banana) | 0.5 |\n",
            "+---------------+-----+\n",
            "+------------+--------------+--------------------+---------------------+---------------+\n",
            "| fruit      | fruit(apple) | fruit(apple)       | fruit(banana)       | fruit(banana) |\n",
            "+------------+--------------+--------------------+---------------------+---------------+\n",
            "| size       | size(large)  | size(small)        | size(large)         | size(small)   |\n",
            "+------------+--------------+--------------------+---------------------+---------------+\n",
            "| tasty(no)  | 0.25         | 0.3333333333333333 | 0.16666666666666666 | 1.0           |\n",
            "+------------+--------------+--------------------+---------------------+---------------+\n",
            "| tasty(yes) | 0.75         | 0.6666666666666666 | 0.8333333333333334  | 0.0           |\n",
            "+------------+--------------+--------------------+---------------------+---------------+\n"
          ],
          "name": "stdout"
        }
      ]
    },
    {
      "cell_type": "markdown",
      "metadata": {
        "id": "q0ey1LYUkeZs"
      },
      "source": [
        "\n",
        "mle.estimate_cpd(variable) computes the state counts and divides each cell by the (conditional) sample size. The mle.get_parameters()-method returns a list of CPDs for all variable of the model.\n",
        "\n",
        "The built-in fit()-method of BayesianModel provides more convenient access to parameter estimators:"
      ]
    },
    {
      "cell_type": "code",
      "metadata": {
        "id": "aaWwb3bjkh5f",
        "colab": {
          "base_uri": "https://localhost:8080/",
          "height": 67
        },
        "outputId": "b97fc3f8-d7c3-4df9-9e6a-32e8d525f602"
      },
      "source": [
        "# Calibrate all CPDs of `model` using MLE:\n",
        "model.fit(data, estimator=MaximumLikelihoodEstimator)"
      ],
      "execution_count": null,
      "outputs": [
        {
          "output_type": "stream",
          "text": [
            "WARNING:root:Replacing existing CPD for fruit\n",
            "WARNING:root:Replacing existing CPD for size\n",
            "WARNING:root:Replacing existing CPD for tasty\n"
          ],
          "name": "stderr"
        }
      ]
    },
    {
      "cell_type": "markdown",
      "metadata": {
        "id": "SkmI3Kn_ki8K"
      },
      "source": [
        "\n",
        "While very straightforward, the ML estimator has the problem of overfitting to the data. In above CPD, the probability of a large banana being tasty is estimated at 0.833, because 5 out of 6 observed large bananas were tasty. Fine. But note that the probability of a small banana being tasty is estimated at 0.0, because we observed only one small banana and it happened to be not tasty. But that should hardly make us certain that small bananas aren't tasty! We simply do not have enough observations to rely on the observed frequencies. If the observed data is not representative for the underlying distribution, ML estimations will be extremly far off.\n",
        "\n",
        "When estimating parameters for Bayesian networks, lack of data is a frequent problem. Even if the total sample size is very large, the fact that state counts are done conditionally for each parents configuration causes immense fragmentation. If a variable has 3 parents that can each take 10 states, then state counts will be done seperately for 10^3 = 1000 parents configurations. This makes MLE very fragile and unstable for learning Bayesian Network parameters. A way to mitigate MLE's overfitting is Bayesian Parameter Estimation."
      ]
    },
    {
      "cell_type": "markdown",
      "metadata": {
        "id": "24DHWylrkm4q"
      },
      "source": [
        "**Bayesian Parameter Estimation**\n",
        "\n",
        "\n",
        "The Bayesian Parameter Estimator starts with already existing prior CPDs, that express our beliefs about the variables before the data was observed. Those \"priors\" are then updated, using the state counts from the observed data. See [1], Section 17.3 for a general introduction to Bayesian estimators.\n",
        "\n",
        "One can think of the priors as consisting in pseudo state counts, that are added to the actual counts before normalization. Unless one wants to encode specific beliefs about the distributions of the variables, one commonly chooses uniform priors, i.e. ones that deem all states equiprobable.\n",
        "\n",
        "A very simple prior is the so-called K2 prior, which simply adds 1 to the count of every single state. A somewhat more sensible choice of prior is BDeu (Bayesian Dirichlet equivalent uniform prior). For BDeu we need to specify an equivalent sample size N and then the pseudo-counts are the equivalent of having observed N uniform samples of each variable (and each parent configuration). In pgmpy:"
      ]
    },
    {
      "cell_type": "code",
      "metadata": {
        "id": "5Ehug-m1ksU_",
        "colab": {
          "base_uri": "https://localhost:8080/",
          "height": 168
        },
        "outputId": "bc0ba2b8-dbd4-4fe5-d029-d5d246c3e6ec"
      },
      "source": [
        "from pgmpy.estimators import BayesianEstimator\n",
        "est = BayesianEstimator(model, data)\n",
        "\n",
        "print(est.estimate_cpd('tasty', prior_type='BDeu', equivalent_sample_size=10))"
      ],
      "execution_count": null,
      "outputs": [
        {
          "output_type": "stream",
          "text": [
            "+------------+---------------------+--------------------+--------------------+---------------------+\n",
            "| fruit      | fruit(apple)        | fruit(apple)       | fruit(banana)      | fruit(banana)       |\n",
            "+------------+---------------------+--------------------+--------------------+---------------------+\n",
            "| size       | size(large)         | size(small)        | size(large)        | size(small)         |\n",
            "+------------+---------------------+--------------------+--------------------+---------------------+\n",
            "| tasty(no)  | 0.34615384615384615 | 0.4090909090909091 | 0.2647058823529412 | 0.6428571428571429  |\n",
            "+------------+---------------------+--------------------+--------------------+---------------------+\n",
            "| tasty(yes) | 0.6538461538461539  | 0.5909090909090909 | 0.7352941176470589 | 0.35714285714285715 |\n",
            "+------------+---------------------+--------------------+--------------------+---------------------+\n"
          ],
          "name": "stdout"
        }
      ]
    },
    {
      "cell_type": "markdown",
      "metadata": {
        "id": "5rODmDHiku43"
      },
      "source": [
        "\n",
        "The estimated values in the CPDs are now more conservative. In particular, the estimate for a small banana being not tasty is now around 0.64 rather than 1.0. Setting equivalent_sample_size to 10 means that for each parent configuration, we add the equivalent of 10 uniform samples (here: +5 small bananas that are tasty and +5 that aren't).\n",
        "\n",
        "BayesianEstimator, too, can be used via the fit()-method."
      ]
    },
    {
      "cell_type": "markdown",
      "source": [
        "###Tasks\n",
        "Import or make a dataset that have some categorical data and a DAG that captures the dependencies between the variables, estimate the (conditional) probability distributions of the individual variables.\n",
        "\n",
        "What are methods of parameter estimation that can be used to estimate the conditional probability distribution?\n",
        "\n",
        "Use all and print the value based on condition as above.\n",
        "\n",
        "what is the diffference between maximum likelihood estimator and bayesian parameter estimator?\n",
        "\n",
        "Perform inference on the Bayesian Network model to check on new valid input data?\n"
      ],
      "metadata": {
        "id": "UlCi9Ngh6Q9k"
      }
    },
    {
      "cell_type": "code",
      "source": [],
      "metadata": {
        "id": "uYnFs3Y0Cs07"
      },
      "execution_count": null,
      "outputs": []
    }
  ]
}